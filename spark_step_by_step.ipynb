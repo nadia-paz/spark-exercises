{
 "cells": [
  {
   "cell_type": "code",
   "execution_count": 1,
   "id": "817f2531",
   "metadata": {},
   "outputs": [],
   "source": [
    "import pandas as pd\n",
    "import numpy as np\n",
    "import pyspark\n",
    "\n",
    "from pyspark.context import SparkContext"
   ]
  },
  {
   "cell_type": "code",
   "execution_count": 2,
   "id": "7d2fbd2a",
   "metadata": {},
   "outputs": [
    {
     "name": "stdout",
     "output_type": "stream",
     "text": [
      "23/02/21 15:27:11 WARN Utils: Your hostname, Nadias-MacBook-Pro.local resolves to a loopback address: 127.0.0.1; using 192.168.1.10 instead (on interface en0)\n",
      "23/02/21 15:27:11 WARN Utils: Set SPARK_LOCAL_IP if you need to bind to another address\n"
     ]
    },
    {
     "name": "stderr",
     "output_type": "stream",
     "text": [
      "Setting default log level to \"WARN\".\n",
      "To adjust logging level use sc.setLogLevel(newLevel). For SparkR, use setLogLevel(newLevel).\n"
     ]
    },
    {
     "name": "stdout",
     "output_type": "stream",
     "text": [
      "23/02/21 15:27:12 WARN NativeCodeLoader: Unable to load native-hadoop library for your platform... using builtin-java classes where applicable\n"
     ]
    }
   ],
   "source": [
    "sc = SparkContext.getOrCreate()"
   ]
  },
  {
   "cell_type": "code",
   "execution_count": 6,
   "id": "5a6c6ed2",
   "metadata": {},
   "outputs": [
    {
     "data": {
      "text/html": [
       "\n",
       "        <div>\n",
       "            <p><b>SparkContext</b></p>\n",
       "\n",
       "            <p><a href=\"http://192.168.1.10:4040\">Spark UI</a></p>\n",
       "\n",
       "            <dl>\n",
       "              <dt>Version</dt>\n",
       "                <dd><code>v3.3.1</code></dd>\n",
       "              <dt>Master</dt>\n",
       "                <dd><code>local[*]</code></dd>\n",
       "              <dt>AppName</dt>\n",
       "                <dd><code>pyspark-shell</code></dd>\n",
       "            </dl>\n",
       "        </div>\n",
       "        "
      ],
      "text/plain": [
       "<SparkContext master=local[*] appName=pyspark-shell>"
      ]
     },
     "execution_count": 6,
     "metadata": {},
     "output_type": "execute_result"
    }
   ],
   "source": [
    "sc"
   ]
  },
  {
   "cell_type": "code",
   "execution_count": 7,
   "id": "59e039fe",
   "metadata": {},
   "outputs": [],
   "source": [
    "data = range(1, 10001)"
   ]
  },
  {
   "cell_type": "code",
   "execution_count": 9,
   "id": "55111b39",
   "metadata": {},
   "outputs": [],
   "source": [
    "distData = sc.parallelize(data)"
   ]
  },
  {
   "cell_type": "code",
   "execution_count": 10,
   "id": "b5726f74",
   "metadata": {},
   "outputs": [
    {
     "data": {
      "text/plain": [
       "PythonRDD[1] at RDD at PythonRDD.scala:53"
      ]
     },
     "execution_count": 10,
     "metadata": {},
     "output_type": "execute_result"
    }
   ],
   "source": [
    "distData"
   ]
  },
  {
   "cell_type": "markdown",
   "id": "b64c7cdb",
   "metadata": {},
   "source": [
    "RDD - resilient distributed dataset (RDD), which is a fault-tolerant collection of elements that can be operated on in parallel. There are two ways to create RDDs: parallelizing an existing collection in your driver program, or referencing a dataset in an external storage system, such as a shared filesystem, HDFS, HBase, or any data source offering a Hadoop InputFormat."
   ]
  },
  {
   "cell_type": "code",
   "execution_count": 14,
   "id": "505daa73",
   "metadata": {},
   "outputs": [
    {
     "data": {
      "text/plain": [
       "[1, 2, 3, 4, 5, 6, 7, 8, 9]"
      ]
     },
     "execution_count": 14,
     "metadata": {},
     "output_type": "execute_result"
    }
   ],
   "source": [
    "# for spark-shell, doesn't work in Jupyter\n",
    "#distData.filter(_ < 10).collect()\n",
    "# returns Array[Int] = Array(1, 2, 3, 4, 5, 6, 7, 8, 9) (scala)\n",
    "\n",
    "# for Jupyter Notebook, doesn't work in spark-shell\n",
    "distData.filter(lambda x: x < 10).collect()"
   ]
  },
  {
   "cell_type": "code",
   "execution_count": 15,
   "id": "92b42d8e",
   "metadata": {},
   "outputs": [
    {
     "data": {
      "text/plain": [
       "list"
      ]
     },
     "execution_count": 15,
     "metadata": {},
     "output_type": "execute_result"
    }
   ],
   "source": [
    "type(distData.filter(lambda x: x < 10).collect())"
   ]
  },
  {
   "cell_type": "code",
   "execution_count": 16,
   "id": "dbcf8ce8",
   "metadata": {},
   "outputs": [
    {
     "data": {
      "text/plain": [
       "b'(16) PythonRDD[1] at RDD at PythonRDD.scala:53 []\\n |   ParallelCollectionRDD[0] at readRDDFromFile at PythonRDD.scala:274 []'"
      ]
     },
     "execution_count": 16,
     "metadata": {},
     "output_type": "execute_result"
    }
   ],
   "source": [
    "# prints the graph what needs to be calculated\n",
    "distData.toDebugString()"
   ]
  },
  {
   "cell_type": "code",
   "execution_count": 18,
   "id": "17559a17",
   "metadata": {},
   "outputs": [],
   "source": [
    "dataTill10 = distData.filter(lambda x: x < 10)"
   ]
  },
  {
   "cell_type": "code",
   "execution_count": 19,
   "id": "e375d4b1",
   "metadata": {},
   "outputs": [
    {
     "data": {
      "text/plain": [
       "b'(16) PythonRDD[5] at RDD at PythonRDD.scala:53 []\\n |   ParallelCollectionRDD[0] at readRDDFromFile at PythonRDD.scala:274 []'"
      ]
     },
     "execution_count": 19,
     "metadata": {},
     "output_type": "execute_result"
    }
   ],
   "source": [
    "dataTill10.toDebugString()"
   ]
  },
  {
   "cell_type": "code",
   "execution_count": 20,
   "id": "6715eb68",
   "metadata": {},
   "outputs": [
    {
     "data": {
      "text/plain": [
       "9"
      ]
     },
     "execution_count": 20,
     "metadata": {},
     "output_type": "execute_result"
    }
   ],
   "source": [
    "dataTill10.count()"
   ]
  },
  {
   "cell_type": "code",
   "execution_count": 21,
   "id": "532d637f",
   "metadata": {},
   "outputs": [
    {
     "data": {
      "text/plain": [
       "10000"
      ]
     },
     "execution_count": 21,
     "metadata": {},
     "output_type": "execute_result"
    }
   ],
   "source": [
    "distData.count()"
   ]
  },
  {
   "cell_type": "code",
   "execution_count": 22,
   "id": "948327e5",
   "metadata": {},
   "outputs": [],
   "source": [
    "from operator import add"
   ]
  },
  {
   "cell_type": "code",
   "execution_count": 23,
   "id": "e225c1d9",
   "metadata": {},
   "outputs": [
    {
     "name": "stdout",
     "output_type": "stream",
     "text": [
      "README.md                  spark-api.ipynb\r\n",
      "Untitled.ipynb             spark.ipynb\r\n",
      "deep_learning_lesson.ipynb spark101.py\r\n",
      "mnist.pkl.gz               spark_step_by_step.ipynb\r\n",
      "mnist_loader.py            spark_wrangle.ipynb\r\n",
      "nn_from_scratch.py\r\n"
     ]
    }
   ],
   "source": [
    "!ls"
   ]
  },
  {
   "cell_type": "markdown",
   "id": "1c6aabec",
   "metadata": {},
   "source": [
    "#### Word count with Spark"
   ]
  },
  {
   "cell_type": "code",
   "execution_count": 24,
   "id": "1cee7423",
   "metadata": {},
   "outputs": [],
   "source": [
    "f = sc.textFile('README.md')\n",
    "wc = f.flatMap(lambda x: x.split(' ')).map(lambda x: (x, 1)).reduceByKey(add)\n",
    "wc.saveAsTextFile('wc-out')"
   ]
  },
  {
   "cell_type": "code",
   "execution_count": 25,
   "id": "4beb8db4",
   "metadata": {},
   "outputs": [
    {
     "name": "stdout",
     "output_type": "stream",
     "text": [
      "README.md                  spark-api.ipynb\r\n",
      "Untitled.ipynb             spark.ipynb\r\n",
      "deep_learning_lesson.ipynb spark101.py\r\n",
      "mnist.pkl.gz               spark_step_by_step.ipynb\r\n",
      "mnist_loader.py            spark_wrangle.ipynb\r\n",
      "nn_from_scratch.py         \u001b[34mwc-out\u001b[m\u001b[m\r\n"
     ]
    }
   ],
   "source": [
    "!ls"
   ]
  },
  {
   "cell_type": "code",
   "execution_count": 26,
   "id": "63e42094",
   "metadata": {},
   "outputs": [
    {
     "data": {
      "text/plain": [
       "README.md MapPartitionsRDD[9] at textFile at NativeMethodAccessorImpl.java:0"
      ]
     },
     "execution_count": 26,
     "metadata": {},
     "output_type": "execute_result"
    }
   ],
   "source": [
    "f"
   ]
  },
  {
   "cell_type": "code",
   "execution_count": 27,
   "id": "45e1fc39",
   "metadata": {},
   "outputs": [
    {
     "data": {
      "text/plain": [
       "PythonRDD[17] at RDD at PythonRDD.scala:53"
      ]
     },
     "execution_count": 27,
     "metadata": {},
     "output_type": "execute_result"
    }
   ],
   "source": [
    "wc"
   ]
  },
  {
   "cell_type": "code",
   "execution_count": 37,
   "id": "84e5b703",
   "metadata": {},
   "outputs": [
    {
     "name": "stdout",
     "output_type": "stream",
     "text": [
      "(2) PythonRDD[17] at RDD at PythonRDD.scala:53 []\n",
      " |  MapPartitionsRDD[13] at mapPartitions at PythonRDD.scala:145 []\n",
      " |  ShuffledRDD[12] at partitionBy at NativeMethodAccessorImpl.java:0 []\n",
      " +-(2) PairwiseRDD[11] at reduceByKey at /var/folders/1h/vmdz8n3d00lfsp1hw8300jt00000gn/T/ipykernel_13710/2903505244.py:2 []\n",
      "    |  PythonRDD[10] at reduceByKey at /var/folders/1h/vmdz8n3d00lfsp1hw8300jt00000gn/T/ipykernel_13710/2903505244.py:2 []\n",
      "    |  README.md MapPartitionsRDD[9] at textFile at NativeMethodAccessorImpl.java:0 []\n",
      "    |  README.md HadoopRDD[8] at textFile at NativeMethodAccessorImpl.java:0 []\n"
     ]
    }
   ],
   "source": [
    "# to print debug string nicely use print and decode\n",
    "print(wc.toDebugString().decode('utf=8'))"
   ]
  },
  {
   "cell_type": "code",
   "execution_count": 38,
   "id": "f61bf9bb",
   "metadata": {},
   "outputs": [
    {
     "data": {
      "text/plain": [
       "<bound method RDD.toDebugString of PythonRDD[17] at RDD at PythonRDD.scala:53>"
      ]
     },
     "execution_count": 38,
     "metadata": {},
     "output_type": "execute_result"
    }
   ],
   "source": [
    "wc.toDebugString"
   ]
  },
  {
   "cell_type": "markdown",
   "id": "5210462e",
   "metadata": {},
   "source": [
    "Assignment:\n",
    "- Use README and changes.txt\n",
    "1. Create RDDs and filter each line by the word 'Spark'\n",
    "2. Perform word count, so the results are (K,V) -> (word, count)\n",
    "3. Join 2 RDDs"
   ]
  },
  {
   "cell_type": "markdown",
   "id": "f1ccb601",
   "metadata": {},
   "source": [
    "#### Spark API"
   ]
  },
  {
   "cell_type": "markdown",
   "id": "741720b6",
   "metadata": {},
   "source": [
    "First thing that Spark program does is create a `SparkContext` object, which tells Spark how to access a cluster. In the Scala or Python shell it is `sc` variable. Other programs must use a constructor to initiate a new `SparkContext`"
   ]
  },
  {
   "cell_type": "markdown",
   "id": "c524f308",
   "metadata": {},
   "source": [
    "The `master` parameter of SparkContext determines which cluster to use:\n",
    "- `local`: local w/ 1 working thread\n",
    "- `local[K]`: local with K working threads\n",
    "- `spark://HOST:PORT` (default port 7077)\n",
    "- `mesos://HOST:PORT` (default port 5050)"
   ]
  },
  {
   "cell_type": "code",
   "execution_count": null,
   "id": "0f9c539c",
   "metadata": {},
   "outputs": [],
   "source": []
  }
 ],
 "metadata": {
  "kernelspec": {
   "display_name": "Python 3 (ipykernel)",
   "language": "python",
   "name": "python3"
  },
  "language_info": {
   "codemirror_mode": {
    "name": "ipython",
    "version": 3
   },
   "file_extension": ".py",
   "mimetype": "text/x-python",
   "name": "python",
   "nbconvert_exporter": "python",
   "pygments_lexer": "ipython3",
   "version": "3.9.12"
  }
 },
 "nbformat": 4,
 "nbformat_minor": 5
}
